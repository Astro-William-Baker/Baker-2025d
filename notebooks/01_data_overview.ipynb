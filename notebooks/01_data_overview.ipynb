{
 "cells": [
  {
   "cell_type": "markdown",
   "metadata": {},
   "source": [
    "# Baker+2025d: Data Overview and Exploration\n",
    "\n",
    "This notebook demonstrates how to load and explore the quiescent galaxy catalog from Baker+2025d.\n",
    "\n",
    "## Contents\n",
    "1. Load the catalog\n",
    "2. Explore basic properties\n",
    "3. Visualize key relationships\n",
    "4. Select subsamples"
   ]
  },
  {
   "cell_type": "code",
   "execution_count": null,
   "metadata": {},
   "outputs": [],
   "source": [
    "# Import required libraries\n",
    "import numpy as np\n",
    "import matplotlib.pyplot as plt\n",
    "from astropy.table import Table\n",
    "import sys\n",
    "sys.path.append('../scripts')\n",
    "from load_catalog import load_catalog, catalog_summary, select_subsample\n",
    "from plotting_utils import setup_plot_style, plot_mass_size_relation, plot_UVJ_diagram\n",
    "\n",
    "# Set up plotting style\n",
    "setup_plot_style()\n",
    "%matplotlib inline"
   ]
  },
  {
   "cell_type": "markdown",
   "metadata": {},
   "source": [
    "## 1. Load the Catalog\n",
    "\n",
    "The main catalog contains over 700 massive quiescent galaxies with comprehensive measurements."
   ]
  },
  {
   "cell_type": "code",
   "execution_count": null,
   "metadata": {},
   "outputs": [],
   "source": [
    "# Load the main catalog\n",
    "# Note: Update the path to point to your actual data location\n",
    "catalog_path = '../data/catalogs/main_catalog_v1.0.fits'\n",
    "\n",
    "try:\n",
    "    catalog = load_catalog(catalog_path)\n",
    "except FileNotFoundError:\n",
    "    print(\"Catalog file not found. Please ensure data files are in the correct location.\")\n",
    "    print(\"Expected location:\", catalog_path)"
   ]
  },
  {
   "cell_type": "markdown",
   "metadata": {},
   "source": [
    "## 2. Catalog Summary\n",
    "\n",
    "Let's look at the basic properties of our sample."
   ]
  },
  {
   "cell_type": "code",
   "execution_count": null,
   "metadata": {},
   "outputs": [],
   "source": [
    "# Print summary statistics\n",
    "catalog_summary(catalog)"
   ]
  },
  {
   "cell_type": "code",
   "execution_count": null,
   "metadata": {},
   "outputs": [],
   "source": [
    "# Display first few rows\n",
    "print(\"\\nFirst 5 galaxies in the catalog:\")\n",
    "catalog[:5].show_in_notebook()"
   ]
  },
  {
   "cell_type": "markdown",
   "metadata": {},
   "source": [
    "## 3. Visualizations\n",
    "\n",
    "### 3.1 Mass-Size Relation"
   ]
  },
  {
   "cell_type": "code",
   "execution_count": null,
   "metadata": {},
   "outputs": [],
   "source": [
    "# Plot mass-size relation\n",
    "# Color-code by redshift bins\n",
    "z_bins = [(0.5, 1.0), (1.0, 1.5), (1.5, 2.0), (2.0, 2.5)]\n",
    "\n",
    "fig, ax = plot_mass_size_relation(catalog, z_bins=z_bins)\n",
    "plt.tight_layout()"
   ]
  },
  {
   "cell_type": "markdown",
   "metadata": {},
   "source": [
    "### 3.2 Redshift Distribution"
   ]
  },
  {
   "cell_type": "code",
   "execution_count": null,
   "metadata": {},
   "outputs": [],
   "source": [
    "# Plot redshift distribution\n",
    "z = catalog['redshift']\n",
    "z = z[~np.isnan(z)]\n",
    "\n",
    "plt.figure(figsize=(10, 5))\n",
    "plt.hist(z, bins=30, color='darkblue', alpha=0.7, edgecolor='black')\n",
    "plt.xlabel('Redshift', fontsize=14)\n",
    "plt.ylabel('Number of Galaxies', fontsize=14)\n",
    "plt.title('Redshift Distribution of Quiescent Galaxies', fontsize=16)\n",
    "plt.grid(True, alpha=0.3)\n",
    "plt.tight_layout()"
   ]
  },
  {
   "cell_type": "markdown",
   "metadata": {},
   "source": [
    "### 3.3 Stellar Mass Distribution"
   ]
  },
  {
   "cell_type": "code",
   "execution_count": null,
   "metadata": {},
   "outputs": [],
   "source": [
    "# Plot mass distribution\n",
    "mass = catalog['log_stellar_mass']\n",
    "mass = mass[~np.isnan(mass)]\n",
    "\n",
    "plt.figure(figsize=(10, 5))\n",
    "plt.hist(mass, bins=25, color='darkred', alpha=0.7, edgecolor='black')\n",
    "plt.xlabel(r'log(M$_*$/M$_\\odot$)', fontsize=14)\n",
    "plt.ylabel('Number of Galaxies', fontsize=14)\n",
    "plt.title('Stellar Mass Distribution', fontsize=16)\n",
    "plt.grid(True, alpha=0.3)\n",
    "plt.tight_layout()"
   ]
  },
  {
   "cell_type": "markdown",
   "metadata": {},
   "source": [
    "### 3.4 UVJ Diagram\n",
    "\n",
    "The UVJ color-color diagram is a classic way to separate quiescent and star-forming galaxies."
   ]
  },
  {
   "cell_type": "code",
   "execution_count": null,
   "metadata": {},
   "outputs": [],
   "source": [
    "# Plot UVJ diagram\n",
    "fig, ax = plot_UVJ_diagram(catalog, highlight_quiescent=True)\n",
    "plt.tight_layout()"
   ]
  },
  {
   "cell_type": "markdown",
   "metadata": {},
   "source": [
    "## 4. Selecting Subsamples\n",
    "\n",
    "You can easily select subsamples based on various criteria."
   ]
  },
  {
   "cell_type": "code",
   "execution_count": null,
   "metadata": {},
   "outputs": [],
   "source": [
    "# Example 1: Low-redshift, massive galaxies\n",
    "low_z_massive = select_subsample(catalog, z_max=1.0, mass_min=11.0)\n",
    "print(f\"Selected {len(low_z_massive)} low-z massive galaxies\")"
   ]
  },
  {
   "cell_type": "code",
   "execution_count": null,
   "metadata": {},
   "outputs": [],
   "source": [
    "# Example 2: High-redshift sample\n",
    "high_z = select_subsample(catalog, z_min=1.5)\n",
    "print(f\"Selected {len(high_z)} high-z galaxies\")"
   ]
  },
  {
   "cell_type": "code",
   "execution_count": null,
   "metadata": {},
   "outputs": [],
   "source": [
    "# Example 3: Compact galaxies (small for their mass)\n",
    "# Select galaxies in a specific mass range\n",
    "mass_selected = select_subsample(catalog, mass_min=10.8, mass_max=11.2)\n",
    "\n",
    "# Find compact ones (e.g., below median size)\n",
    "sizes = mass_selected['effective_radius']\n",
    "sizes_clean = sizes[~np.isnan(sizes)]\n",
    "median_size = np.median(sizes_clean)\n",
    "\n",
    "compact = mass_selected[mass_selected['effective_radius'] < median_size]\n",
    "print(f\"Found {len(compact)} compact galaxies (Re < {median_size:.2f} kpc)\")"
   ]
  },
  {
   "cell_type": "markdown",
   "metadata": {},
   "source": [
    "## 5. Simple Analysis Example\n",
    "\n",
    "Let's compute the mass-size relation slope at different redshifts."
   ]
  },
  {
   "cell_type": "code",
   "execution_count": null,
   "metadata": {},
   "outputs": [],
   "source": [
    "from scipy.stats import linregress\n",
    "\n",
    "# Define redshift bins\n",
    "z_bins = [(0.5, 1.0), (1.0, 1.5), (1.5, 2.0)]\n",
    "\n",
    "print(\"Mass-Size Relation Slopes:\\n\")\n",
    "for z_min, z_max in z_bins:\n",
    "    # Select redshift bin\n",
    "    subsample = select_subsample(catalog, z_min=z_min, z_max=z_max)\n",
    "    \n",
    "    # Get mass and size\n",
    "    mass = subsample['log_stellar_mass']\n",
    "    size = np.log10(subsample['effective_radius'])\n",
    "    \n",
    "    # Remove NaNs\n",
    "    good = ~(np.isnan(mass) | np.isnan(size))\n",
    "    mass = mass[good]\n",
    "    size = size[good]\n",
    "    \n",
    "    # Fit linear relation\n",
    "    if len(mass) > 10:\n",
    "        slope, intercept, r_value, p_value, std_err = linregress(mass, size)\n",
    "        print(f\"{z_min:.1f} < z < {z_max:.1f}: slope = {slope:.3f} ± {std_err:.3f}\")\n",
    "    else:\n",
    "        print(f\"{z_min:.1f} < z < {z_max:.1f}: insufficient data\")"
   ]
  },
  {
   "cell_type": "markdown",
   "metadata": {},
   "source": [
    "## 6. Export Subsample\n",
    "\n",
    "Save a subsample for further analysis."
   ]
  },
  {
   "cell_type": "code",
   "execution_count": null,
   "metadata": {},
   "outputs": [],
   "source": [
    "# Select and save a subsample\n",
    "# subsample = select_subsample(catalog, z_min=1.0, z_max=1.5, mass_min=10.8)\n",
    "# subsample.write('my_subsample.fits', overwrite=True)\n",
    "# print(f\"Saved subsample with {len(subsample)} galaxies\")"
   ]
  },
  {
   "cell_type": "markdown",
   "metadata": {},
   "source": [
    "## Summary\n",
    "\n",
    "In this notebook, we:\n",
    "1. Loaded the Baker+2025d quiescent galaxy catalog\n",
    "2. Explored the basic properties of the sample\n",
    "3. Created visualizations of key relationships\n",
    "4. Demonstrated how to select subsamples\n",
    "5. Performed a simple analysis of the mass-size relation\n",
    "\n",
    "For more detailed analyses, see the other notebooks in this directory!"
   ]
  }
 ],
 "metadata": {
  "kernelspec": {
   "display_name": "Python 3",
   "language": "python",
   "name": "python3"
  },
  "language_info": {
   "codemirror_mode": {
    "name": "ipython",
    "version": 3
   },
   "file_extension": ".py",
   "mimetype": "text/x-python",
   "name": "python",
   "nbconvert_exporter": "python",
   "pygments_lexer": "ipython3",
   "version": "3.8.0"
  }
 },
 "nbformat": 4,
 "nbformat_minor": 4
}
